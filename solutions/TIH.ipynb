{
 "cells": [
  {
   "cell_type": "markdown",
   "id": "2fea0534-484b-41fc-b5c8-2ed487d3b796",
   "metadata": {},
   "source": [
    "## https://www.techinterviewhandbook.org/coding-interview-study-plan/\n",
    "https://www.techinterviewhandbook.org/algorithms/array/\n",
    "https://github.com/krishnadey30/LeetCode-Questions-CompanyWise/tree/master"
   ]
  },
  {
   "cell_type": "code",
   "execution_count": 2,
   "id": "b3686c12-2c01-441b-952d-8f077928e0ae",
   "metadata": {},
   "outputs": [],
   "source": [
    "from typing import List"
   ]
  },
  {
   "cell_type": "code",
   "execution_count": 2,
   "id": "0faeb413-9f05-4595-a303-87f241925487",
   "metadata": {},
   "outputs": [
    {
     "name": "stdout",
     "output_type": "stream",
     "text": [
      "3\n",
      "1\n",
      "0\n",
      "1\n",
      "1\n",
      "3\n",
      "4\n",
      "3\n",
      "3\n"
     ]
    }
   ],
   "source": [
    "## https://leetcode.com/problems/longest-substring-without-repeating-characters/\n",
    "## https://leetcode.com/problems/longest-substring-without-repeating-characters/solutions/3649636/3-method-s-c-java-python-beginner-friendly\n",
    "class Solution:\n",
    "    def lengthOfLongestSubstring(self, s: str) -> int:\n",
    "        start,end,max_len,str_len=0,0,0,len(s)\n",
    "        # char_set=set()\n",
    "        # char_dict=dict()\n",
    "        char_array = [-1]*128\n",
    "\n",
    "        while end<str_len:\n",
    "            # if s[end] in char_dict\n",
    "            # if s[end] in char_dict and char_dict[s[end]]>=start:\n",
    "                # while s[end] in char_set:\n",
    "                #     char_set.remove(s[start])\n",
    "                #     start+=1\n",
    "                # char_set.add(s[end])\n",
    "            if char_array[ord(s[end])]>=start:\n",
    "                start = char_array[ord(s[end])]+1\n",
    "                char_array[ord(s[end])]=end\n",
    "            else:\n",
    "                # char_set.add(s[end])\n",
    "                char_array[ord(s[end])]=end\n",
    "                max_len=max(max_len,end-start+1)\n",
    "            end+=1\n",
    "            \n",
    "        return max_len\n",
    "        \n",
    "sol=Solution()\n",
    "string_list=[\"abcabcbb\",\"bbbbb\",\"\",\" \",\"l\",\"pwwkew\",\"abcd\",\"dvdf\",\"abcabcbb\"]\n",
    "for word in string_list:\n",
    "    print(sol.lengthOfLongestSubstring(word))"
   ]
  },
  {
   "cell_type": "code",
   "execution_count": 11,
   "id": "097f8e98-eada-4358-92b3-cec68fd493f2",
   "metadata": {},
   "outputs": [
    {
     "name": "stdout",
     "output_type": "stream",
     "text": [
      "[4, 5]\n"
     ]
    }
   ],
   "source": [
    "# https://leetcode.com/problems/two-sum/solutions/3619262/3-method-s-c-java-python-beginner-friendly/\n",
    "class Solution:\n",
    "    def twoSum(self, nums: List[int], target: int) -> List[int]:\n",
    "        numMap = {}\n",
    "        n = len(nums)\n",
    "\n",
    "        for i in range(n):\n",
    "            complement = target - nums[i]\n",
    "            if complement in numMap:\n",
    "                return [numMap[complement], i]\n",
    "            numMap[nums[i]] = i\n",
    "\n",
    "        return []  # No solution found\n",
    "\n",
    "sol = Solution()\n",
    "print(sol.twoSum([1,2,3,4,5,6],11))"
   ]
  },
  {
   "cell_type": "code",
   "execution_count": 25,
   "id": "9fce373d-44b0-44b3-a0db-9c187e804e65",
   "metadata": {},
   "outputs": [
    {
     "name": "stdout",
     "output_type": "stream",
     "text": [
      "True\n",
      "True\n",
      "True\n",
      "True\n",
      "False\n",
      "False\n"
     ]
    }
   ],
   "source": [
    "# https://leetcode.com/problems/valid-parentheses/description/\n",
    "class Solution:\n",
    "    def validParen(self,s:str) -> bool:\n",
    "        stack=[]\n",
    "        for word in s:\n",
    "            if word in ['(',')','{','}','[',']']:\n",
    "                if word in ['(','[','{']:\n",
    "                    stack.append(word)\n",
    "                else:\n",
    "                    if (word==')' and stack[-1]!='(') or \\\n",
    "                       (word==']' and stack[-1]!='[') or \\\n",
    "                       (word=='}' and stack[-1]!='{'):\n",
    "                            return False\n",
    "                    stack.pop()    \n",
    "            else:\n",
    "                return False\n",
    "        return not stack\n",
    "\n",
    "sol = Solution()\n",
    "for s in [\"({[]})\",\"\",\"()()(())\",\"()[]{}\",\"(]\",\"(\"]:\n",
    "    print(sol.validParen(s))"
   ]
  },
  {
   "cell_type": "code",
   "execution_count": 32,
   "id": "64888b6c-d807-4ebf-a901-319e6e6f0330",
   "metadata": {},
   "outputs": [
    {
     "name": "stdout",
     "output_type": "stream",
     "text": [
      "[1, 1, 2, 2, 3, 3, 4, 4]\n",
      "[1, 2, 3, 4]\n",
      "[1, 5]\n",
      "[]\n"
     ]
    }
   ],
   "source": [
    "# https://leetcode.com/problems/merge-two-sorted-lists/description/\n",
    "class Solution:\n",
    "    def mergeTwoLists(self,list1:List[int],list2:List[int]) -> List[int]:\n",
    "        mergedList=[]\n",
    "        ptL1,ptL2=0,0\n",
    "        while ptL1<len(list1) and ptL2<len(list2):\n",
    "            if list1[ptL1]<list2[ptL2]:\n",
    "                mergedList.append(list1[ptL1])\n",
    "                ptL1+=1\n",
    "            else:\n",
    "                mergedList.append(list2[ptL2])\n",
    "                ptL2+=1\n",
    "\n",
    "        while ptL1<len(list1):\n",
    "            mergedList.append(list1[ptL1])\n",
    "            ptL1+=1\n",
    "\n",
    "        while ptL2<len(list2):\n",
    "            mergedList.append(list2[ptL2])\n",
    "            ptL2+=1\n",
    "            \n",
    "        return mergedList\n",
    "\n",
    "sol = Solution()\n",
    "for l1,l2 in [[[1,2,3,4],[1,2,3,4]],[[2,4],[1,3]],[[5],[1]],[[],[]]]:\n",
    "    print(sol.mergeTwoLists(l1,l2))"
   ]
  },
  {
   "cell_type": "code",
   "execution_count": null,
   "id": "ebba9606-ee51-495a-b2f9-fbe3803de5ca",
   "metadata": {},
   "outputs": [],
   "source": []
  }
 ],
 "metadata": {
  "kernelspec": {
   "display_name": "Python 3 (ipykernel)",
   "language": "python",
   "name": "python3"
  },
  "language_info": {
   "codemirror_mode": {
    "name": "ipython",
    "version": 3
   },
   "file_extension": ".py",
   "mimetype": "text/x-python",
   "name": "python",
   "nbconvert_exporter": "python",
   "pygments_lexer": "ipython3",
   "version": "3.11.11"
  }
 },
 "nbformat": 4,
 "nbformat_minor": 5
}

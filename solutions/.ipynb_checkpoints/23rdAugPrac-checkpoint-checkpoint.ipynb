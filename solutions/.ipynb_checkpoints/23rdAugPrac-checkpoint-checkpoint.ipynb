{
 "cells": [
  {
   "cell_type": "markdown",
   "metadata": {},
   "source": [
    "## BFS and DFS"
   ]
  },
  {
   "cell_type": "markdown",
   "metadata": {},
   "source": [
    "### Adjacency List"
   ]
  },
  {
   "cell_type": "code",
   "execution_count": 4,
   "metadata": {},
   "outputs": [],
   "source": [
    "### Graph representations\n",
    "# 1. adjacency List: hashmap of node:edges\n",
    "example_adjacency_list_graph = {\n",
    "    'A': ['B'],\n",
    "    'B': ['A', 'C', 'H'],\n",
    "    'C': ['B', 'D'],\n",
    "    'D': ['C', 'E', 'G'],\n",
    "    'E': ['D', 'F'],\n",
    "    'F': ['E'],\n",
    "    'G': ['D'],\n",
    "    'H': ['B', 'I', 'J', 'M'],\n",
    "    'I': ['H'],\n",
    "    'J': ['H', 'K'],\n",
    "    'K': ['J', 'L'],\n",
    "    'L': ['K'],\n",
    "    'M': ['H']\n",
    "}\n"
   ]
  },
  {
   "cell_type": "code",
   "execution_count": 14,
   "metadata": {},
   "outputs": [
    {
     "name": "stdout",
     "output_type": "stream",
     "text": [
      "odict_keys(['A', 'B', 'C', 'H', 'D', 'I', 'J', 'M', 'E', 'G', 'K', 'F', 'L'])\n"
     ]
    }
   ],
   "source": [
    "# BFS\n",
    "from typing import Dict\n",
    "from collections import deque, OrderedDict\n",
    "\n",
    "\n",
    "def bfs(adjacency_list_graph: Dict[str,list],root:str):\n",
    "    if not adjacency_list_graph:\n",
    "        return\n",
    "    visited = OrderedDict() #set works but elements stored unordered\n",
    "    queue = deque(root)\n",
    "    while queue:\n",
    "        node = queue.popleft()\n",
    "        if node not in visited:\n",
    "            # print(node)\n",
    "            visited[node]=\"\"\n",
    "            queue.extend(adjacency_list_graph[node])\n",
    "    return visited.keys()\n",
    "\n",
    "print(bfs(example_adjacency_list_graph, \"A\"))"
   ]
  },
  {
   "cell_type": "code",
   "execution_count": 16,
   "metadata": {},
   "outputs": [
    {
     "name": "stdout",
     "output_type": "stream",
     "text": [
      "odict_keys(['A', 'B', 'H', 'M', 'J', 'K', 'L', 'I', 'C', 'D', 'G', 'E', 'F'])\n"
     ]
    }
   ],
   "source": [
    "# DFS\n",
    "from collections import OrderedDict, deque\n",
    "from typing import Dict\n",
    "\n",
    "\n",
    "def dfs(adjacency_list_graph: Dict[str,list], root:str):\n",
    "    if not adjacency_list_graph:\n",
    "        return\n",
    "    visited = OrderedDict()\n",
    "    stack = deque(root)\n",
    "    while stack:\n",
    "        node = stack.pop()\n",
    "        if node not in visited:\n",
    "            visited[node]=\"\"\n",
    "            stack.extend(adjacency_list_graph[node])\n",
    "    return visited.keys()\n",
    "\n",
    "print(dfs(example_adjacency_list_graph,\"A\"))"
   ]
  },
  {
   "cell_type": "code",
   "execution_count": 25,
   "metadata": {},
   "outputs": [
    {
     "name": "stdout",
     "output_type": "stream",
     "text": [
      "odict_keys(['A', 'B', 'C', 'D', 'E', 'F', 'G', 'H', 'I', 'J', 'K', 'L', 'M'])\n"
     ]
    }
   ],
   "source": [
    "# DFS left first\n",
    "from collections import OrderedDict\n",
    "from typing import Dict\n",
    "\n",
    "\n",
    "def recursive_dfs_left_first(adjacency_list_graph: Dict[str,list], root:str):\n",
    "    if not adjacency_list_graph:\n",
    "        return\n",
    "    visited = OrderedDict()\n",
    "    def traverse(node:str):\n",
    "        if node not in visited:\n",
    "            visited[node]=\"\"\n",
    "            for next_node in adjacency_list_graph[node]:# simulates popleft()\n",
    "                traverse(next_node)\n",
    "    traverse(root)\n",
    "    return visited.keys()\n",
    "\n",
    "print(recursive_dfs_left_first(example_adjacency_list_graph,\"A\"))"
   ]
  },
  {
   "cell_type": "code",
   "execution_count": 24,
   "metadata": {},
   "outputs": [
    {
     "name": "stdout",
     "output_type": "stream",
     "text": [
      "odict_keys(['A', 'B', 'H', 'M', 'J', 'K', 'L', 'I', 'C', 'D', 'G', 'E', 'F'])\n"
     ]
    }
   ],
   "source": [
    "# DFS right first\n",
    "from collections import OrderedDict\n",
    "from typing import Dict\n",
    "\n",
    "\n",
    "def recursive_dfs_right_first(adjacency_list_graph: Dict[str,list], root:str):\n",
    "    if not adjacency_list_graph:\n",
    "        return\n",
    "    visited = OrderedDict()\n",
    "    def traverse(node:str):\n",
    "        if node not in visited:\n",
    "            visited[node]=\"\"\n",
    "            for next_node in adjacency_list_graph[node][::-1]:# simulates pop() from right\n",
    "                traverse(next_node)\n",
    "    traverse(root)\n",
    "    return visited.keys()\n",
    "\n",
    "print(recursive_dfs_right_first(example_adjacency_list_graph,\"A\"))"
   ]
  },
  {
   "cell_type": "markdown",
   "metadata": {},
   "source": [
    "### 2D matrix (In the lines of Adjacency Matrix)"
   ]
  },
  {
   "cell_type": "code",
   "execution_count": null,
   "metadata": {},
   "outputs": [],
   "source": [
    "### Graph representations\n",
    "example_adjacency_matrix = [\n",
    "    [0,1,0,1,0],\n",
    "    [1,0,1,0,1],\n",
    "    [1,0,1,0,1],\n",
    "    [1,0,1,0,1],\n",
    "    [1,0,1,0,1]]"
   ]
  },
  {
   "cell_type": "code",
   "execution_count": 7,
   "metadata": {},
   "outputs": [
    {
     "name": "stdout",
     "output_type": "stream",
     "text": [
      "odict_keys([(0, 0), (0, 1), (1, 0), (0, 2), (1, 1), (2, 0), (0, 3), (1, 2), (2, 1), (3, 0), (0, 4), (1, 3), (2, 2), (3, 1), (4, 0), (1, 4), (2, 3), (3, 2), (4, 1), (2, 4), (3, 3), (4, 2), (3, 4), (4, 3), (4, 4)])\n",
      "Hi\n"
     ]
    }
   ],
   "source": [
    "# BFS\n",
    "from typing import List, Tuple\n",
    "from collections import deque, OrderedDict\n",
    "\n",
    "def bfs_matrix_traversal(adjacency_matrix_graph: List[List], root:Tuple[str]):\n",
    "    # print(\"In\")\n",
    "    # print(adjacency_matrix_graph, root)\n",
    "    if not adjacency_matrix_graph:\n",
    "        return []\n",
    "    rows, cols = len(adjacency_matrix_graph), len(adjacency_matrix_graph[0])\n",
    "    visited = OrderedDict()\n",
    "    queue = deque([root])\n",
    "    valid_steps = ((0,1),(0,-1),(1,0),(-1,0))\n",
    "    while queue:\n",
    "        # print(queue)\n",
    "        node = queue.popleft()\n",
    "        if node not in visited:\n",
    "            visited[node]=\"\"\n",
    "            for valid_step in valid_steps:\n",
    "                next_i, next_j = node[0]+valid_step[0], node[1]+valid_step[1]\n",
    "                if (next_i<rows and next_j<cols) and (next_i>=0 and next_j>=0):\n",
    "                    queue.append((next_i,next_j))\n",
    "    return visited.keys()\n",
    "\n",
    "print(bfs_matrix_traversal(example_adjacency_matrix,(0,0)))"
   ]
  },
  {
   "cell_type": "code",
   "execution_count": 15,
   "metadata": {},
   "outputs": [
    {
     "name": "stdout",
     "output_type": "stream",
     "text": [
      "odict_keys([(0, 0), (1, 0), (2, 0), (3, 0), (4, 0), (4, 1), (3, 1), (2, 1), (1, 1), (0, 1), (0, 2), (1, 2), (2, 2), (3, 2), (4, 2), (4, 3), (3, 3), (2, 3), (1, 3), (0, 3), (0, 4), (1, 4), (2, 4), (3, 4), (4, 4)])\n"
     ]
    }
   ],
   "source": [
    "# DFS\n",
    "from typing import List, Tuple\n",
    "from collections import deque, OrderedDict\n",
    "\n",
    "def dfs_matrix_traversal(adjancency_matrix_graph: List[List], root: Tuple[str]):\n",
    "    if not adjancency_matrix_graph:\n",
    "        return []\n",
    "\n",
    "    rows, cols = len(adjancency_matrix_graph), len(adjancency_matrix_graph[0])\n",
    "    stack = deque([root])\n",
    "    visited = OrderedDict()\n",
    "    valid_steps = ((0,1),(0,-1),(1,0),(-1,0))\n",
    "    while stack:\n",
    "        node = stack.pop()\n",
    "        if node not in visited:\n",
    "            visited[node]=\"\"\n",
    "            for valid_step in valid_steps:\n",
    "                next_i, next_j = node[0]+valid_step[0], node[1]+valid_step[1]\n",
    "                if (next_i<rows and next_j<cols) and (next_i>=0 and next_j>=0):\n",
    "                    stack.append((next_i,next_j))\n",
    "    return visited.keys()\n",
    "\n",
    "print(dfs_matrix_traversal(example_adjacency_matrix,(0,0)))"
   ]
  },
  {
   "cell_type": "code",
   "execution_count": 16,
   "metadata": {},
   "outputs": [
    {
     "name": "stdout",
     "output_type": "stream",
     "text": [
      "odict_keys([(0, 0), (0, 1), (0, 2), (0, 3), (0, 4), (1, 4), (1, 3), (1, 2), (1, 1), (1, 0), (2, 0), (2, 1), (2, 2), (2, 3), (2, 4), (3, 4), (3, 3), (3, 2), (3, 1), (3, 0), (4, 0), (4, 1), (4, 2), (4, 3), (4, 4)])\n"
     ]
    }
   ],
   "source": [
    "# DFS with recursion\n",
    "from typing import List, Tuple\n",
    "from collections import deque, OrderedDict\n",
    "\n",
    "def dfs_matrix_traversal(adjancency_matrix_graph: List[List], root: Tuple[str]):\n",
    "    if not adjancency_matrix_graph:\n",
    "        return []\n",
    "\n",
    "    rows, cols = len(adjancency_matrix_graph), len(adjancency_matrix_graph[0])\n",
    "    stack = deque([root])\n",
    "    visited = OrderedDict()\n",
    "    valid_steps = ((0,1),(0,-1),(1,0),(-1,0))\n",
    "    def traverse(node:Tuple[str]):\n",
    "        if node not in visited:\n",
    "            visited[node]=\"\"\n",
    "            for valid_step in valid_steps:\n",
    "                next_i, next_j = node[0]+valid_step[0], node[1]+valid_step[1]\n",
    "                if (next_i<rows and next_j<cols) and (next_i>=0 and next_j>=0):# simulates popleft()\n",
    "                    traverse((next_i,next_j))\n",
    "    traverse(root)\n",
    "    return visited.keys()\n",
    "\n",
    "print(dfs_matrix_traversal(example_adjacency_matrix,(0,0)))"
   ]
  },
  {
   "cell_type": "markdown",
   "metadata": {},
   "source": [
    "## Doubly Linked List"
   ]
  },
  {
   "cell_type": "code",
   "execution_count": 54,
   "metadata": {},
   "outputs": [
    {
     "name": "stdout",
     "output_type": "stream",
     "text": [
      "<-prev-1<-prev-2<-prev-3<-prev-4<-prev-5<-prev-6<-prev-7<-prev-8 8-next->7-next->6-next->5-next->4-next->3-next->2-next->1-next->\n",
      "Error: position '17' is greater that current capacity '8'\n",
      "Error: position '10' is greater that current capacity '8'\n",
      "<-prev-1<-prev-10<-prev-2<-prev-3<-prev-4<-prev-998<-prev-5<-prev-6<-prev-7 7-next->6-next->5-next->998-next->4-next->3-next->2-next->10-next->1-next->\n"
     ]
    }
   ],
   "source": [
    "class DL_Node:\n",
    "    def __init__(self,data=None,front=None,back=None):\n",
    "        self.data=data\n",
    "        self.next=front\n",
    "        self.prev=back\n",
    "\n",
    "class Double_LL:\n",
    "    def __init__(self,head_val=None):\n",
    "        self.head=DL_Node(head_val)\n",
    "        self.tail=DL_Node(head_val)\n",
    "        self.count=0\n",
    "    \n",
    "    def add_front(self,value):\n",
    "        node=DL_Node(value)\n",
    "        self.count+=1\n",
    "        if self.head.next:\n",
    "            node.next=self.head.next\n",
    "            node.prev=self.head\n",
    "            node.next.prev=node\n",
    "            self.head.next=node\n",
    "            \n",
    "        else:\n",
    "            node.next=self.tail\n",
    "            node.prev=self.head\n",
    "            self.head.next=node\n",
    "            self.tail.prev=node\n",
    "            \n",
    "    def add_position(self,value,pos):\n",
    "        if pos>self.count:\n",
    "            print(\"Error: position '{}' is greater that current capacity '{}'\".format(pos,self.count))\n",
    "#             raise ValueError(\"Error: position is greater that current capacity:{}\".format(self.count))\n",
    "            return\n",
    "        else:\n",
    "            node=DL_Node(value)\n",
    "            # find which side is better\n",
    "            if pos<self.count/2: #from front\n",
    "                rel_pos=pos\n",
    "                c=self.head\n",
    "                while rel_pos:#!=0\n",
    "                    c=c.next\n",
    "                    rel_pos-=1\n",
    "            else: #from back\n",
    "#                 print(\"from_back:\"+self.__str__('rear'))\n",
    "                rel_pos=self.count-pos\n",
    "                c=self.tail.prev\n",
    "                while rel_pos:#!=0\n",
    "#                     print(c.data)\n",
    "                    c=c.prev\n",
    "                    rel_pos-=1\n",
    "                #at pos\n",
    "            node.next=c.next\n",
    "            node.prev=c\n",
    "            node.next.prev=node\n",
    "            c.next=node\n",
    "            \n",
    "    def del_position(self,pos):\n",
    "        if pos>self.count:\n",
    "            print(\"Error: position '{}' is greater that current capacity '{}'\".format(pos,self.count))\n",
    "#             raise ValueError(\"Error: position is greater that current capacity:{}\".format(self.count))\n",
    "            return\n",
    "        else:# find which side is better\n",
    "            if pos<self.count/2: #from front\n",
    "                rel_pos=pos\n",
    "                c=self.head\n",
    "                while rel_pos:#!=0\n",
    "                    c=c.next\n",
    "                    rel_pos-=1\n",
    "            else: #from back\n",
    "                rel_pos=self.count-pos\n",
    "                c=self.tail.prev\n",
    "                while rel_pos:#!=0\n",
    "#                     print(c.data)\n",
    "                    c=c.prev\n",
    "                    rel_pos-=1\n",
    "                #at pos\n",
    "            c.prev.next=c.next\n",
    "            c.next.prev=c.prev\n",
    "            del(c)\n",
    "            \n",
    "    def __str__(self,direction='front'):\n",
    "        if(direction=='front'):\n",
    "            start=self.head.next\n",
    "        else:\n",
    "            start=self.tail.prev\n",
    "        string=''\n",
    "        while start!=None and start.data!=None:\n",
    "            if(direction=='front'):\n",
    "                string+=str(start.data)+'-next->'\n",
    "                start=start.next\n",
    "            else:\n",
    "                string+='<-prev-'+ str(start.data)\n",
    "                start=start.prev\n",
    "        return string\n",
    "    \n",
    "if __name__==\"__main__\":\n",
    "    d=Double_LL()\n",
    "    d.add_front(1)\n",
    "    d.add_front(2)\n",
    "    d.add_front(3)\n",
    "    d.add_front(4)\n",
    "    d.add_front(5)\n",
    "    d.add_front(6)\n",
    "    d.add_front(7)\n",
    "    d.add_front(8)\n",
    "    print(d.__str__('rear'),d)\n",
    "    d.add_position(998,4)\n",
    "    d.add_position(10,7)\n",
    "    d.add_position(98,17)\n",
    "    d.del_position(1)\n",
    "    d.del_position(10)\n",
    "    print(d.__str__('rear'),d)\n"
   ]
  },
  {
   "cell_type": "code",
   "execution_count": 55,
   "metadata": {},
   "outputs": [],
   "source": [
    "## Singly Linked List"
   ]
  },
  {
   "cell_type": "code",
   "execution_count": null,
   "metadata": {},
   "outputs": [],
   "source": []
  },
  {
   "cell_type": "markdown",
   "metadata": {},
   "source": [
    "##Quick Sort"
   ]
  },
  {
   "cell_type": "code",
   "execution_count": 13,
   "metadata": {},
   "outputs": [
    {
     "name": "stdout",
     "output_type": "stream",
     "text": [
      "[1, 2, 4, 7, 8, 9, 10, 14]\n"
     ]
    }
   ],
   "source": [
    "def sub(l,start,end,pivot_idx):\n",
    "    if not(start<=pivot_idx<=end):\n",
    "        print(\"pivot out of bounds\")\n",
    "        \n",
    "    l[start],l[pivot_idx]=l[pivot_idx],l[start]\n",
    "    \n",
    "    i=start+1\n",
    "    j=start+1\n",
    "    pivot=l[start]\n",
    "    \n",
    "    while j<=end:\n",
    "        if l[j]<=pivot:\n",
    "            l[i],l[j]=l[j],l[i]\n",
    "            i+=1\n",
    "        j+=1\n",
    "        \n",
    "    l[start],l[i-1]=l[i-1],l[start]\n",
    "    return i-1\n",
    "        \n",
    "def quick_sort(l,start=None,end=None):\n",
    "    if start is None:\n",
    "        start=0\n",
    "        end=len(l)-1\n",
    "        \n",
    "    if end-start<1:\n",
    "        return\n",
    "    pivot_idx=(start+end)//2\n",
    "    i=sub(l,start,end,pivot_idx)\n",
    "    quick_sort(l,start,i-1)\n",
    "    quick_sort(l,i+1,end)\n",
    "    \n",
    "if __name__==\"__main__\":\n",
    "    l=[9,8,1,10,2,7,14,4]\n",
    "    quick_sort(l)\n",
    "    print(l)"
   ]
  },
  {
   "cell_type": "code",
   "execution_count": 14,
   "metadata": {},
   "outputs": [],
   "source": [
    "## rev str"
   ]
  },
  {
   "cell_type": "code",
   "execution_count": 29,
   "metadata": {},
   "outputs": [
    {
     "name": "stdout",
     "output_type": "stream",
     "text": [
      "ihsus emos eta taC\n",
      "ihsus emos eta taC\n"
     ]
    }
   ],
   "source": [
    "def string_rev_order(orig_string):\n",
    "#     orig_str=orig_string.split()\n",
    "    orig_str=list(orig_string)\n",
    "    i=0\n",
    "    j=len(orig_str)-1\n",
    "    mid=(i+j)//2\n",
    "    while j>mid:\n",
    "#         print(orig_str)\n",
    "        orig_str[i],orig_str[j]=orig_str[j],orig_str[i]\n",
    "        i+=1\n",
    "        j-=1\n",
    "    print(\"\".join(orig_str))\n",
    "\n",
    "def string_rev_order_min(orig_string):\n",
    "    orig_str=list(orig_string)\n",
    "    print(\"\".join(orig_str[::-1]))\n",
    "\n",
    "if __name__ == '__main__':\n",
    "    orig_str='Cat ate some sushi'\n",
    "    string_rev_order(orig_str)\n",
    "    string_rev_order_min(orig_str)"
   ]
  },
  {
   "cell_type": "code",
   "execution_count": null,
   "metadata": {},
   "outputs": [],
   "source": []
  }
 ],
 "metadata": {
  "kernelspec": {
   "display_name": "Python 3 (ipykernel)",
   "language": "python",
   "name": "python3"
  },
  "language_info": {
   "codemirror_mode": {
    "name": "ipython",
    "version": 3
   },
   "file_extension": ".py",
   "mimetype": "text/x-python",
   "name": "python",
   "nbconvert_exporter": "python",
   "pygments_lexer": "ipython3",
   "version": "3.11.11"
  }
 },
 "nbformat": 4,
 "nbformat_minor": 4
}

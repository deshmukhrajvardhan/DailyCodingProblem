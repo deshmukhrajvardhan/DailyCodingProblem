{
 "cells": [
  {
   "cell_type": "markdown",
   "metadata": {},
   "source": [
    "## Doubly Linked List"
   ]
  },
  {
   "cell_type": "code",
   "execution_count": 54,
   "metadata": {},
   "outputs": [
    {
     "name": "stdout",
     "output_type": "stream",
     "text": [
      "<-prev-1<-prev-2<-prev-3<-prev-4<-prev-5<-prev-6<-prev-7<-prev-8 8-next->7-next->6-next->5-next->4-next->3-next->2-next->1-next->\n",
      "Error: position '17' is greater that current capacity '8'\n",
      "Error: position '10' is greater that current capacity '8'\n",
      "<-prev-1<-prev-10<-prev-2<-prev-3<-prev-4<-prev-998<-prev-5<-prev-6<-prev-7 7-next->6-next->5-next->998-next->4-next->3-next->2-next->10-next->1-next->\n"
     ]
    }
   ],
   "source": [
    "class DL_Node:\n",
    "    def __init__(self,data=None,front=None,back=None):\n",
    "        self.data=data\n",
    "        self.next=front\n",
    "        self.prev=back\n",
    "\n",
    "class Double_LL:\n",
    "    def __init__(self,head_val=None):\n",
    "        self.head=DL_Node(head_val)\n",
    "        self.tail=DL_Node(head_val)\n",
    "        self.count=0\n",
    "    \n",
    "    def add_front(self,value):\n",
    "        node=DL_Node(value)\n",
    "        self.count+=1\n",
    "        if self.head.next:\n",
    "            node.next=self.head.next\n",
    "            node.prev=self.head\n",
    "            node.next.prev=node\n",
    "            self.head.next=node\n",
    "            \n",
    "        else:\n",
    "            node.next=self.tail\n",
    "            node.prev=self.head\n",
    "            self.head.next=node\n",
    "            self.tail.prev=node\n",
    "            \n",
    "    def add_position(self,value,pos):\n",
    "        if pos>self.count:\n",
    "            print(\"Error: position '{}' is greater that current capacity '{}'\".format(pos,self.count))\n",
    "#             raise ValueError(\"Error: position is greater that current capacity:{}\".format(self.count))\n",
    "            return\n",
    "        else:\n",
    "            node=DL_Node(value)\n",
    "            # find which side is better\n",
    "            if pos<self.count/2: #from front\n",
    "                rel_pos=pos\n",
    "                c=self.head\n",
    "                while rel_pos:#!=0\n",
    "                    c=c.next\n",
    "                    rel_pos-=1\n",
    "            else: #from back\n",
    "#                 print(\"from_back:\"+self.__str__('rear'))\n",
    "                rel_pos=self.count-pos\n",
    "                c=self.tail.prev\n",
    "                while rel_pos:#!=0\n",
    "#                     print(c.data)\n",
    "                    c=c.prev\n",
    "                    rel_pos-=1\n",
    "                #at pos\n",
    "            node.next=c.next\n",
    "            node.prev=c\n",
    "            node.next.prev=node\n",
    "            c.next=node\n",
    "            \n",
    "    def del_position(self,pos):\n",
    "        if pos>self.count:\n",
    "            print(\"Error: position '{}' is greater that current capacity '{}'\".format(pos,self.count))\n",
    "#             raise ValueError(\"Error: position is greater that current capacity:{}\".format(self.count))\n",
    "            return\n",
    "        else:# find which side is better\n",
    "            if pos<self.count/2: #from front\n",
    "                rel_pos=pos\n",
    "                c=self.head\n",
    "                while rel_pos:#!=0\n",
    "                    c=c.next\n",
    "                    rel_pos-=1\n",
    "            else: #from back\n",
    "                rel_pos=self.count-pos\n",
    "                c=self.tail.prev\n",
    "                while rel_pos:#!=0\n",
    "#                     print(c.data)\n",
    "                    c=c.prev\n",
    "                    rel_pos-=1\n",
    "                #at pos\n",
    "            c.prev.next=c.next\n",
    "            c.next.prev=c.prev\n",
    "            del(c)\n",
    "            \n",
    "    def __str__(self,direction='front'):\n",
    "        if(direction=='front'):\n",
    "            start=self.head.next\n",
    "        else:\n",
    "            start=self.tail.prev\n",
    "        string=''\n",
    "        while start!=None and start.data!=None:\n",
    "            if(direction=='front'):\n",
    "                string+=str(start.data)+'-next->'\n",
    "                start=start.next\n",
    "            else:\n",
    "                string+='<-prev-'+ str(start.data)\n",
    "                start=start.prev\n",
    "        return string\n",
    "    \n",
    "if __name__==\"__main__\":\n",
    "    d=Double_LL()\n",
    "    d.add_front(1)\n",
    "    d.add_front(2)\n",
    "    d.add_front(3)\n",
    "    d.add_front(4)\n",
    "    d.add_front(5)\n",
    "    d.add_front(6)\n",
    "    d.add_front(7)\n",
    "    d.add_front(8)\n",
    "    print(d.__str__('rear'),d)\n",
    "    d.add_position(998,4)\n",
    "    d.add_position(10,7)\n",
    "    d.add_position(98,17)\n",
    "    d.del_position(1)\n",
    "    d.del_position(10)\n",
    "    print(d.__str__('rear'),d)\n"
   ]
  },
  {
   "cell_type": "code",
   "execution_count": 55,
   "metadata": {},
   "outputs": [],
   "source": [
    "## Singly Linked List"
   ]
  },
  {
   "cell_type": "code",
   "execution_count": null,
   "metadata": {},
   "outputs": [],
   "source": []
  },
  {
   "cell_type": "code",
   "execution_count": 56,
   "metadata": {},
   "outputs": [],
   "source": [
    "##Quick Sort"
   ]
  },
  {
   "cell_type": "code",
   "execution_count": null,
   "metadata": {},
   "outputs": [],
   "source": []
  }
 ],
 "metadata": {
  "kernelspec": {
   "display_name": "Python 3",
   "language": "python",
   "name": "python3"
  },
  "language_info": {
   "codemirror_mode": {
    "name": "ipython",
    "version": 3
   },
   "file_extension": ".py",
   "mimetype": "text/x-python",
   "name": "python",
   "nbconvert_exporter": "python",
   "pygments_lexer": "ipython3",
   "version": "3.7.1"
  }
 },
 "nbformat": 4,
 "nbformat_minor": 2
}

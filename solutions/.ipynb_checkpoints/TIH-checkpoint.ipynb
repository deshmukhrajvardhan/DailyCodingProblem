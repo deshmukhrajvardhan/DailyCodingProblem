{
 "cells": [
  {
   "cell_type": "markdown",
   "id": "2fea0534-484b-41fc-b5c8-2ed487d3b796",
   "metadata": {},
   "source": [
    "## https://www.techinterviewhandbook.org/coding-interview-study-plan/\n",
    "https://www.techinterviewhandbook.org/algorithms/array/\n",
    "https://github.com/krishnadey30/LeetCode-Questions-CompanyWise/tree/master"
   ]
  },
  {
   "cell_type": "code",
   "execution_count": 28,
   "id": "0faeb413-9f05-4595-a303-87f241925487",
   "metadata": {},
   "outputs": [
    {
     "name": "stdout",
     "output_type": "stream",
     "text": [
      "3\n",
      "1\n",
      "0\n",
      "0\n",
      "0\n",
      "3\n"
     ]
    }
   ],
   "source": [
    "## https://leetcode.com/problems/longest-substring-without-repeating-characters/\n",
    "class Solution:\n",
    "    def lengthOfLongestSubstring(self, s: str) -> int:\n",
    "        str_len:int=len(s)\n",
    "        if str_len==0:\n",
    "            return 0\n",
    "        start,end,local_max=0,1,1\n",
    "        alpha_dict={s[start]:True}\n",
    "\n",
    "        while end<str_len-1:\n",
    "            end+=1\n",
    "            is_present=alpha_dict.get(s[end],False)\n",
    "            if is_present:\n",
    "                local_max=max(end-start,local_max)\n",
    "                start=end \n",
    "            else:\n",
    "                alpha_dict[s[end]]=True\n",
    "        return local_max\n",
    "        \n",
    "sol=Solution()\n",
    "string_list=[\"abcabcbb\",\"bbbbb\",\"\",\" \",\"l\",\"pwwkew\"]\n",
    "for word in string_list:\n",
    "    print(sol.lengthOfLongestSubstring(word))"
   ]
  },
  {
   "cell_type": "code",
   "execution_count": null,
   "id": "097f8e98-eada-4358-92b3-cec68fd493f2",
   "metadata": {},
   "outputs": [],
   "source": []
  }
 ],
 "metadata": {
  "kernelspec": {
   "display_name": "Python 3 (ipykernel)",
   "language": "python",
   "name": "python3"
  },
  "language_info": {
   "codemirror_mode": {
    "name": "ipython",
    "version": 3
   },
   "file_extension": ".py",
   "mimetype": "text/x-python",
   "name": "python",
   "nbconvert_exporter": "python",
   "pygments_lexer": "ipython3",
   "version": "3.11.8"
  }
 },
 "nbformat": 4,
 "nbformat_minor": 5
}
